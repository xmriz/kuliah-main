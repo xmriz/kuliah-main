{
 "cells": [
  {
   "cell_type": "code",
   "execution_count": 15,
   "metadata": {},
   "outputs": [
    {
     "name": "stdout",
     "output_type": "stream",
     "text": [
      "R 6.0\n",
      "Hambatan total bernilai 6.0\n"
     ]
    }
   ],
   "source": [
    "# NIM/NAMA    : 16521369_Ahmad Rizki\n",
    "# Tanggal     : 22 Oktober 2021\n",
    "# Deskripsi   : Program yang menampilkan hasil perhitungan keliling lingkaran\n",
    "\n",
    "# KAMUS\n",
    "# R1,R2, R3, RT : float\n",
    "\n",
    "# ALGORITMA\n",
    "R1 = float(input('Masukkan R1: '))\n",
    "R2 = float(input('Masukkan R2: '))\n",
    "R3 = float(input('Masukkan R3: '))\n",
    "\n",
    "# Membuat percabangan untuk semua R bilangan postif, dan terdapat R yang negatif\n",
    "if R1 < 0 or R2 < 0 or R3 < 0:\n",
    "    print('Hambatan total tidak dapat dihitung')\n",
    "else:\n",
    "    # Mendefinisikan RT sebagai jumlah ketiga R\n",
    "    RT = R1 + R2 + R3\n",
    "    print(f'R {RT}') # Cetak RT\n",
    "    print('Hambatan total bernilai', RT)\n"
   ]
  },
  {
   "cell_type": "code",
   "execution_count": 16,
   "metadata": {},
   "outputs": [
    {
     "name": "stdout",
     "output_type": "stream",
     "text": [
      "Keliling lingkran = 25.132741228718345 satuan volume\n"
     ]
    }
   ],
   "source": [
    "# NIM/NAMA    : 16521369_Ahmad Rizki\n",
    "# Tanggal     : 22 Oktober 2021\n",
    "# Deskripsi   : Program yang menampilkan hasil perhitungan keliling lingkaran\n",
    "\n",
    "# KAMUS\n",
    "# r = float\n",
    "# K = float\n",
    "\n",
    "# ALGORITMA\n",
    "from math import *\n",
    "#Menginput jari-jari\n",
    "r = float(input('Masukkan jari-jari: '))\n",
    "#Merumuskan nilai keliling lingkaran sesuai dengan rumusnya\n",
    "K = 2*pi*r\n",
    "#Mencetak nilai keliling\n",
    "print(f'Keliling lingkran = {K} satuan volume')\n"
   ]
  },
  {
   "cell_type": "code",
   "execution_count": 19,
   "metadata": {},
   "outputs": [
    {
     "ename": "KeyboardInterrupt",
     "evalue": "Interrupted by user",
     "output_type": "error",
     "traceback": [
      "\u001b[1;31m---------------------------------------------------------------------------\u001b[0m",
      "\u001b[1;31mKeyboardInterrupt\u001b[0m                         Traceback (most recent call last)",
      "\u001b[1;32m~\\AppData\\Local\\Temp/ipykernel_16556/702598434.py\u001b[0m in \u001b[0;36m<module>\u001b[1;34m\u001b[0m\n\u001b[0;32m      8\u001b[0m \u001b[1;31m# ALGORITMA\u001b[0m\u001b[1;33m\u001b[0m\u001b[1;33m\u001b[0m\u001b[0m\n\u001b[0;32m      9\u001b[0m \u001b[1;33m\u001b[0m\u001b[0m\n\u001b[1;32m---> 10\u001b[1;33m \u001b[0mN\u001b[0m \u001b[1;33m=\u001b[0m\u001b[0mint\u001b[0m\u001b[1;33m(\u001b[0m\u001b[0minput\u001b[0m\u001b[1;33m(\u001b[0m\u001b[1;34m\"N :\"\u001b[0m\u001b[1;33m)\u001b[0m\u001b[1;33m)\u001b[0m\u001b[1;33m\u001b[0m\u001b[1;33m\u001b[0m\u001b[0m\n\u001b[0m\u001b[0;32m     11\u001b[0m \u001b[0mhari\u001b[0m\u001b[1;33m=\u001b[0m\u001b[1;36m1\u001b[0m\u001b[1;33m\u001b[0m\u001b[1;33m\u001b[0m\u001b[0m\n\u001b[0;32m     12\u001b[0m \u001b[0msum\u001b[0m\u001b[1;33m=\u001b[0m\u001b[1;36m0\u001b[0m\u001b[1;33m\u001b[0m\u001b[1;33m\u001b[0m\u001b[0m\n",
      "\u001b[1;32m~\\AppData\\Local\\Programs\\Python\\Python39\\lib\\site-packages\\ipykernel\\kernelbase.py\u001b[0m in \u001b[0;36mraw_input\u001b[1;34m(self, prompt)\u001b[0m\n\u001b[0;32m   1004\u001b[0m                 \u001b[1;34m\"raw_input was called, but this frontend does not support input requests.\"\u001b[0m\u001b[1;33m\u001b[0m\u001b[1;33m\u001b[0m\u001b[0m\n\u001b[0;32m   1005\u001b[0m             )\n\u001b[1;32m-> 1006\u001b[1;33m         return self._input_request(\n\u001b[0m\u001b[0;32m   1007\u001b[0m             \u001b[0mstr\u001b[0m\u001b[1;33m(\u001b[0m\u001b[0mprompt\u001b[0m\u001b[1;33m)\u001b[0m\u001b[1;33m,\u001b[0m\u001b[1;33m\u001b[0m\u001b[1;33m\u001b[0m\u001b[0m\n\u001b[0;32m   1008\u001b[0m             \u001b[0mself\u001b[0m\u001b[1;33m.\u001b[0m\u001b[0m_parent_ident\u001b[0m\u001b[1;33m[\u001b[0m\u001b[1;34m\"shell\"\u001b[0m\u001b[1;33m]\u001b[0m\u001b[1;33m,\u001b[0m\u001b[1;33m\u001b[0m\u001b[1;33m\u001b[0m\u001b[0m\n",
      "\u001b[1;32m~\\AppData\\Local\\Programs\\Python\\Python39\\lib\\site-packages\\ipykernel\\kernelbase.py\u001b[0m in \u001b[0;36m_input_request\u001b[1;34m(self, prompt, ident, parent, password)\u001b[0m\n\u001b[0;32m   1049\u001b[0m             \u001b[1;32mexcept\u001b[0m \u001b[0mKeyboardInterrupt\u001b[0m\u001b[1;33m:\u001b[0m\u001b[1;33m\u001b[0m\u001b[1;33m\u001b[0m\u001b[0m\n\u001b[0;32m   1050\u001b[0m                 \u001b[1;31m# re-raise KeyboardInterrupt, to truncate traceback\u001b[0m\u001b[1;33m\u001b[0m\u001b[1;33m\u001b[0m\u001b[0m\n\u001b[1;32m-> 1051\u001b[1;33m                 \u001b[1;32mraise\u001b[0m \u001b[0mKeyboardInterrupt\u001b[0m\u001b[1;33m(\u001b[0m\u001b[1;34m\"Interrupted by user\"\u001b[0m\u001b[1;33m)\u001b[0m \u001b[1;32mfrom\u001b[0m \u001b[1;32mNone\u001b[0m\u001b[1;33m\u001b[0m\u001b[1;33m\u001b[0m\u001b[0m\n\u001b[0m\u001b[0;32m   1052\u001b[0m             \u001b[1;32mexcept\u001b[0m \u001b[0mException\u001b[0m\u001b[1;33m:\u001b[0m\u001b[1;33m\u001b[0m\u001b[1;33m\u001b[0m\u001b[0m\n\u001b[0;32m   1053\u001b[0m                 \u001b[0mself\u001b[0m\u001b[1;33m.\u001b[0m\u001b[0mlog\u001b[0m\u001b[1;33m.\u001b[0m\u001b[0mwarning\u001b[0m\u001b[1;33m(\u001b[0m\u001b[1;34m\"Invalid Message:\"\u001b[0m\u001b[1;33m,\u001b[0m \u001b[0mexc_info\u001b[0m\u001b[1;33m=\u001b[0m\u001b[1;32mTrue\u001b[0m\u001b[1;33m)\u001b[0m\u001b[1;33m\u001b[0m\u001b[1;33m\u001b[0m\u001b[0m\n",
      "\u001b[1;31mKeyboardInterrupt\u001b[0m: Interrupted by user"
     ]
    }
   ],
   "source": [
    "# NIM/NAMA    : 16521369_Ahmad Rizki\n",
    "# Tanggal     : 26 Oktober 2021\n",
    "# Deskripsi   : Program yang menampilkan statistik suhu dalam sebulan\n",
    "\n",
    "# KAMUS\n",
    "# N, hari : int\n",
    "\n",
    "# ALGORITMA\n",
    "# Menginput jumlah hari N dalam sebulan, dengan asumsi masukkan selalu benar\n",
    "N =int(input(\"N: \"))\n",
    "\n",
    "# Mendefinisikan jumlah hari dan total dari suhu\n",
    "hari=1\n",
    "sum=0\n",
    "\n",
    "# Melakukan perulangan pengingputan suhu dari hari ke-1 sampai hari ke-N\n",
    "while hari<=N :\n",
    "    suhu = float(input(\"Suhu hari ke- {} :\".format(hari)))\n",
    "    if hari == 1:\n",
    "        min = suhu\n",
    "        max = suhu\n",
    "    if suhu > max:\n",
    "        max= suhu        \n",
    "    if suhu < min:\n",
    "        min = suhu       \n",
    "    sum += suhu\n",
    "    avg = sum/hari\n",
    "    hari +=1\n",
    "\n",
    "# Mencetak statistik suhu dalam jumlah hari dalam sebulan\n",
    "print(\"---Suhu rata-rata :\", avg )\n",
    "print(\"---Suhu tertinggi :\", max)\n",
    "print (\"---Suhu terendah :\", min)"
   ]
  }
 ],
 "metadata": {
  "interpreter": {
   "hash": "43435a050d4ac362dc4b1b4851a0333547cf4819a4e47175b9a0f2919a9b0b1b"
  },
  "kernelspec": {
   "display_name": "Python 3.9.7 64-bit",
   "name": "python3"
  },
  "language_info": {
   "codemirror_mode": {
    "name": "ipython",
    "version": 3
   },
   "file_extension": ".py",
   "mimetype": "text/x-python",
   "name": "python",
   "nbconvert_exporter": "python",
   "pygments_lexer": "ipython3",
   "version": "3.9.7"
  },
  "orig_nbformat": 4
 },
 "nbformat": 4,
 "nbformat_minor": 2
}
