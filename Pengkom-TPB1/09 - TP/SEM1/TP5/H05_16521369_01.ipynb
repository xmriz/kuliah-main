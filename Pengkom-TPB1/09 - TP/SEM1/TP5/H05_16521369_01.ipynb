{
 "cells": [
  {
   "cell_type": "code",
   "execution_count": 1,
   "metadata": {},
   "outputs": [],
   "source": [
    "# NIM/NAMA    : 16521369_Ahmad Rizki\n",
    "# Tanggal     : 25 November 2021\n",
    "# Deskripsi   : Diberikan data nilai mahasiswa dari file \"H05.csv\", lalu program akan menampilkan beberapa analisis dari data tersebut."
   ]
  },
  {
   "cell_type": "markdown",
   "metadata": {},
   "source": [
    "## **Membaca Data**"
   ]
  },
  {
   "cell_type": "code",
   "execution_count": 2,
   "metadata": {},
   "outputs": [],
   "source": [
    "import pandas as pd\n",
    "df = pd.read_csv('H05.csv')"
   ]
  },
  {
   "cell_type": "markdown",
   "metadata": {},
   "source": [
    "## **Mengakses Data** "
   ]
  },
  {
   "cell_type": "code",
   "execution_count": 3,
   "metadata": {},
   "outputs": [
    {
     "data": {
      "text/plain": [
       "5135"
      ]
     },
     "execution_count": 3,
     "metadata": {},
     "output_type": "execute_result"
    }
   ],
   "source": [
    "# Banyaknya data\n",
    "len(df)"
   ]
  },
  {
   "cell_type": "code",
   "execution_count": 4,
   "metadata": {},
   "outputs": [
    {
     "data": {
      "text/html": [
       "<div>\n",
       "<style scoped>\n",
       "    .dataframe tbody tr th:only-of-type {\n",
       "        vertical-align: middle;\n",
       "    }\n",
       "\n",
       "    .dataframe tbody tr th {\n",
       "        vertical-align: top;\n",
       "    }\n",
       "\n",
       "    .dataframe thead th {\n",
       "        text-align: right;\n",
       "    }\n",
       "</style>\n",
       "<table border=\"1\" class=\"dataframe\">\n",
       "  <thead>\n",
       "    <tr style=\"text-align: right;\">\n",
       "      <th></th>\n",
       "      <th>nama</th>\n",
       "      <th>fakultas</th>\n",
       "      <th>nilai_mat</th>\n",
       "      <th>nilai_kim</th>\n",
       "      <th>nilai_fis</th>\n",
       "    </tr>\n",
       "  </thead>\n",
       "  <tbody>\n",
       "    <tr>\n",
       "      <th>0</th>\n",
       "      <td>Farhan Fathur Rahman</td>\n",
       "      <td>FMIPA</td>\n",
       "      <td>57.21</td>\n",
       "      <td>34.14</td>\n",
       "      <td>38.93</td>\n",
       "    </tr>\n",
       "    <tr>\n",
       "      <th>1</th>\n",
       "      <td>Steven Margono</td>\n",
       "      <td>FMIPA</td>\n",
       "      <td>67.43</td>\n",
       "      <td>51.50</td>\n",
       "      <td>57.20</td>\n",
       "    </tr>\n",
       "    <tr>\n",
       "      <th>2</th>\n",
       "      <td>Ryan Sentosa</td>\n",
       "      <td>SAPPK</td>\n",
       "      <td>90.62</td>\n",
       "      <td>37.38</td>\n",
       "      <td>40.73</td>\n",
       "    </tr>\n",
       "    <tr>\n",
       "      <th>3</th>\n",
       "      <td>Muhajah Babny Muslim</td>\n",
       "      <td>FMIPA</td>\n",
       "      <td>72.31</td>\n",
       "      <td>38.80</td>\n",
       "      <td>44.79</td>\n",
       "    </tr>\n",
       "    <tr>\n",
       "      <th>4</th>\n",
       "      <td>Alvin Natawiguna</td>\n",
       "      <td>FTSL</td>\n",
       "      <td>65.45</td>\n",
       "      <td>57.67</td>\n",
       "      <td>56.39</td>\n",
       "    </tr>\n",
       "    <tr>\n",
       "      <th>5</th>\n",
       "      <td>Sasti Safitri</td>\n",
       "      <td>FTSL</td>\n",
       "      <td>60.58</td>\n",
       "      <td>41.91</td>\n",
       "      <td>51.55</td>\n",
       "    </tr>\n",
       "    <tr>\n",
       "      <th>6</th>\n",
       "      <td>Dani Yulianto Putra</td>\n",
       "      <td>FTSL</td>\n",
       "      <td>51.67</td>\n",
       "      <td>35.05</td>\n",
       "      <td>48.69</td>\n",
       "    </tr>\n",
       "    <tr>\n",
       "      <th>7</th>\n",
       "      <td>Nabila Febitsukarizky Bunyamin</td>\n",
       "      <td>FTTM</td>\n",
       "      <td>71.66</td>\n",
       "      <td>67.61</td>\n",
       "      <td>69.75</td>\n",
       "    </tr>\n",
       "    <tr>\n",
       "      <th>8</th>\n",
       "      <td>Ratna Siti Khodijah</td>\n",
       "      <td>FTI</td>\n",
       "      <td>73.06</td>\n",
       "      <td>59.16</td>\n",
       "      <td>59.48</td>\n",
       "    </tr>\n",
       "    <tr>\n",
       "      <th>9</th>\n",
       "      <td>Gita Partiwi</td>\n",
       "      <td>FTSL</td>\n",
       "      <td>69.57</td>\n",
       "      <td>38.84</td>\n",
       "      <td>48.17</td>\n",
       "    </tr>\n",
       "  </tbody>\n",
       "</table>\n",
       "</div>"
      ],
      "text/plain": [
       "                             nama fakultas  nilai_mat  nilai_kim  nilai_fis\n",
       "0            Farhan Fathur Rahman    FMIPA      57.21      34.14      38.93\n",
       "1                  Steven Margono    FMIPA      67.43      51.50      57.20\n",
       "2                    Ryan Sentosa    SAPPK      90.62      37.38      40.73\n",
       "3            Muhajah Babny Muslim    FMIPA      72.31      38.80      44.79\n",
       "4                Alvin Natawiguna     FTSL      65.45      57.67      56.39\n",
       "5                   Sasti Safitri     FTSL      60.58      41.91      51.55\n",
       "6             Dani Yulianto Putra     FTSL      51.67      35.05      48.69\n",
       "7  Nabila Febitsukarizky Bunyamin     FTTM      71.66      67.61      69.75\n",
       "8             Ratna Siti Khodijah      FTI      73.06      59.16      59.48\n",
       "9                    Gita Partiwi     FTSL      69.57      38.84      48.17"
      ]
     },
     "execution_count": 4,
     "metadata": {},
     "output_type": "execute_result"
    }
   ],
   "source": [
    "# 10 data pertama\n",
    "df[:10]"
   ]
  },
  {
   "cell_type": "code",
   "execution_count": 5,
   "metadata": {},
   "outputs": [
    {
     "data": {
      "text/html": [
       "<div>\n",
       "<style scoped>\n",
       "    .dataframe tbody tr th:only-of-type {\n",
       "        vertical-align: middle;\n",
       "    }\n",
       "\n",
       "    .dataframe tbody tr th {\n",
       "        vertical-align: top;\n",
       "    }\n",
       "\n",
       "    .dataframe thead th {\n",
       "        text-align: right;\n",
       "    }\n",
       "</style>\n",
       "<table border=\"1\" class=\"dataframe\">\n",
       "  <thead>\n",
       "    <tr style=\"text-align: right;\">\n",
       "      <th></th>\n",
       "      <th>nama</th>\n",
       "      <th>fakultas</th>\n",
       "      <th>nilai_mat</th>\n",
       "      <th>nilai_kim</th>\n",
       "      <th>nilai_fis</th>\n",
       "    </tr>\n",
       "  </thead>\n",
       "  <tbody>\n",
       "    <tr>\n",
       "      <th>50</th>\n",
       "      <td>Arief Syakur Sutedjo</td>\n",
       "      <td>FTTM</td>\n",
       "      <td>84.40</td>\n",
       "      <td>61.21</td>\n",
       "      <td>73.91</td>\n",
       "    </tr>\n",
       "    <tr>\n",
       "      <th>51</th>\n",
       "      <td>Fayi Raihan Saleh</td>\n",
       "      <td>FMIPA</td>\n",
       "      <td>60.62</td>\n",
       "      <td>32.57</td>\n",
       "      <td>42.34</td>\n",
       "    </tr>\n",
       "    <tr>\n",
       "      <th>52</th>\n",
       "      <td>Erna Kristiawati</td>\n",
       "      <td>FTI</td>\n",
       "      <td>67.48</td>\n",
       "      <td>46.78</td>\n",
       "      <td>52.30</td>\n",
       "    </tr>\n",
       "    <tr>\n",
       "      <th>53</th>\n",
       "      <td>Albert</td>\n",
       "      <td>SAPPK</td>\n",
       "      <td>70.27</td>\n",
       "      <td>50.10</td>\n",
       "      <td>54.01</td>\n",
       "    </tr>\n",
       "    <tr>\n",
       "      <th>54</th>\n",
       "      <td>M Jazztyan Indra Pradana</td>\n",
       "      <td>STEI</td>\n",
       "      <td>53.40</td>\n",
       "      <td>43.06</td>\n",
       "      <td>60.30</td>\n",
       "    </tr>\n",
       "    <tr>\n",
       "      <th>55</th>\n",
       "      <td>Moch Ginanjar Busiri</td>\n",
       "      <td>FMIPA</td>\n",
       "      <td>74.29</td>\n",
       "      <td>38.44</td>\n",
       "      <td>49.15</td>\n",
       "    </tr>\n",
       "    <tr>\n",
       "      <th>56</th>\n",
       "      <td>Aisya Tamara</td>\n",
       "      <td>FITB</td>\n",
       "      <td>71.49</td>\n",
       "      <td>35.86</td>\n",
       "      <td>37.41</td>\n",
       "    </tr>\n",
       "    <tr>\n",
       "      <th>57</th>\n",
       "      <td>Tyas Arum Widayati</td>\n",
       "      <td>SAPPK</td>\n",
       "      <td>68.57</td>\n",
       "      <td>37.02</td>\n",
       "      <td>53.25</td>\n",
       "    </tr>\n",
       "    <tr>\n",
       "      <th>58</th>\n",
       "      <td>Arif Saleh</td>\n",
       "      <td>FTI</td>\n",
       "      <td>100.00</td>\n",
       "      <td>59.79</td>\n",
       "      <td>55.33</td>\n",
       "    </tr>\n",
       "    <tr>\n",
       "      <th>59</th>\n",
       "      <td>Windy Diwita Nisaekti</td>\n",
       "      <td>FTI</td>\n",
       "      <td>67.15</td>\n",
       "      <td>57.72</td>\n",
       "      <td>54.24</td>\n",
       "    </tr>\n",
       "    <tr>\n",
       "      <th>60</th>\n",
       "      <td>Alif Aviano S</td>\n",
       "      <td>STEI</td>\n",
       "      <td>54.11</td>\n",
       "      <td>58.01</td>\n",
       "      <td>73.17</td>\n",
       "    </tr>\n",
       "  </tbody>\n",
       "</table>\n",
       "</div>"
      ],
      "text/plain": [
       "                        nama fakultas  nilai_mat  nilai_kim  nilai_fis\n",
       "50      Arief Syakur Sutedjo     FTTM      84.40      61.21      73.91\n",
       "51         Fayi Raihan Saleh    FMIPA      60.62      32.57      42.34\n",
       "52          Erna Kristiawati      FTI      67.48      46.78      52.30\n",
       "53                    Albert    SAPPK      70.27      50.10      54.01\n",
       "54  M Jazztyan Indra Pradana     STEI      53.40      43.06      60.30\n",
       "55      Moch Ginanjar Busiri    FMIPA      74.29      38.44      49.15\n",
       "56              Aisya Tamara     FITB      71.49      35.86      37.41\n",
       "57        Tyas Arum Widayati    SAPPK      68.57      37.02      53.25\n",
       "58                Arif Saleh      FTI     100.00      59.79      55.33\n",
       "59     Windy Diwita Nisaekti      FTI      67.15      57.72      54.24\n",
       "60             Alif Aviano S     STEI      54.11      58.01      73.17"
      ]
     },
     "execution_count": 5,
     "metadata": {},
     "output_type": "execute_result"
    }
   ],
   "source": [
    "# Data ke 50 sampai 60 (inklusif: data ke-50, data ke-51, ..., data ke-60)\n",
    "df[50:61]"
   ]
  },
  {
   "cell_type": "code",
   "execution_count": 6,
   "metadata": {},
   "outputs": [
    {
     "name": "stdout",
     "output_type": "stream",
     "text": [
      "List banyaknya mahasiswa tiap fakultas\n"
     ]
    },
    {
     "data": {
      "text/plain": [
       "FTI      834\n",
       "STEI     777\n",
       "FTSL     660\n",
       "FMIPA    627\n",
       "FTTM     579\n",
       "FTMD     480\n",
       "FITB     403\n",
       "SAPPK    315\n",
       "SITHR    282\n",
       "SITHS    178\n",
       "Name: fakultas, dtype: int64"
      ]
     },
     "execution_count": 6,
     "metadata": {},
     "output_type": "execute_result"
    }
   ],
   "source": [
    "# Banyaknya mahasiswa tiap fakultas\n",
    "print('List banyaknya mahasiswa tiap fakultas')\n",
    "df['fakultas'].value_counts()"
   ]
  },
  {
   "cell_type": "code",
   "execution_count": 7,
   "metadata": {},
   "outputs": [
    {
     "name": "stdout",
     "output_type": "stream",
     "text": [
      "nilai korelasi antara nilai fisika dan kimia sebesar 0.7988187423880277\n"
     ]
    }
   ],
   "source": [
    "# Nilai korelasi antara nilai fisika dan kimia\n",
    "kor_fiskim = df['nilai_fis'].corr(df['nilai_kim'])\n",
    "print('nilai korelasi antara nilai fisika dan kimia sebesar', kor_fiskim)\n",
    "\n",
    "# nilai korelasi bernilai 0.7988187423880277, dimana mendekati nilai +1, \n",
    "# yang artinya nilai fisika dan niliai kimia berbanding lurus\n",
    "# yaitu untuk sebagian besar data jika nilai fisika membesar maka nilai kimia juga membesar"
   ]
  }
 ],
 "metadata": {
  "interpreter": {
   "hash": "43435a050d4ac362dc4b1b4851a0333547cf4819a4e47175b9a0f2919a9b0b1b"
  },
  "kernelspec": {
   "display_name": "Python 3.9.7 64-bit",
   "language": "python",
   "name": "python3"
  },
  "language_info": {
   "codemirror_mode": {
    "name": "ipython",
    "version": 3
   },
   "file_extension": ".py",
   "mimetype": "text/x-python",
   "name": "python",
   "nbconvert_exporter": "python",
   "pygments_lexer": "ipython3",
   "version": "3.9.7"
  },
  "orig_nbformat": 4
 },
 "nbformat": 4,
 "nbformat_minor": 2
}
