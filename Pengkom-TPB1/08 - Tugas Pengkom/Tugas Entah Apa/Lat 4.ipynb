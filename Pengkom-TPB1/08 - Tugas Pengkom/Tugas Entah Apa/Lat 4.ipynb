{
 "cells": [
  {
   "cell_type": "code",
   "execution_count": 1,
   "source": [
    "N = int(input('Masukkan banyak anak ayam : '))\r\n",
    "print('Anak ayam turunlah', N)\r\n",
    "\r\n",
    "for i in range(1, N):\r\n",
    "    print(f'Mati satu tinggallah {N-i}')\r\n",
    "\r\n",
    "print('Mati satu tinggal induknya')"
   ],
   "outputs": [
    {
     "output_type": "stream",
     "name": "stdout",
     "text": [
      "Anak ayam turunlah 5\n",
      "Mati satu tinggallah 4\n",
      "Mati satu tinggallah 3\n",
      "Mati satu tinggallah 2\n",
      "Mati satu tinggallah 1\n",
      "Mati satu tinggal induknya\n"
     ]
    }
   ],
   "metadata": {}
  },
  {
   "cell_type": "code",
   "execution_count": 2,
   "source": [
    "N = int(input('Masukkan banyak anak ayam : '))\r\n",
    "print('Anak ayam turunlah 5')\r\n",
    "\r\n",
    "while N > 1:\r\n",
    "    N -= 1\r\n",
    "    print(f'Mati satu tinggallah {N}')\r\n",
    "\r\n",
    "print('Mati satu tinggal induknya')"
   ],
   "outputs": [
    {
     "output_type": "stream",
     "name": "stdout",
     "text": [
      "Anak ayam turunlah 5\n",
      "Mati satu tinggallah 4\n",
      "Mati satu tinggallah 3\n",
      "Mati satu tinggallah 2\n",
      "Mati satu tinggallah 1\n",
      "Mati satu tinggal induknya\n"
     ]
    }
   ],
   "metadata": {}
  },
  {
   "cell_type": "code",
   "execution_count": 3,
   "source": [
    "N = int(input('Masukkan banyak anak ayam : '))\r\n",
    "print('Anak ayam turunlah 5')\r\n",
    "\r\n",
    "while True:\r\n",
    "    N -= 1\r\n",
    "    print(f'Mati satu tinggallah {N}')\r\n",
    "    if N<2:\r\n",
    "        break\r\n",
    "\r\n",
    "print('Mati satu tinggal induknya')"
   ],
   "outputs": [
    {
     "output_type": "stream",
     "name": "stdout",
     "text": [
      "Anak ayam turunlah 5\n",
      "Mati satu tinggallah 4\n",
      "Mati satu tinggallah 3\n",
      "Mati satu tinggallah 2\n",
      "Mati satu tinggallah 1\n",
      "Mati satu tinggal induknya\n"
     ]
    }
   ],
   "metadata": {}
  }
 ],
 "metadata": {
  "orig_nbformat": 4,
  "language_info": {
   "name": "python",
   "version": "3.9.7",
   "mimetype": "text/x-python",
   "codemirror_mode": {
    "name": "ipython",
    "version": 3
   },
   "pygments_lexer": "ipython3",
   "nbconvert_exporter": "python",
   "file_extension": ".py"
  },
  "kernelspec": {
   "name": "python3",
   "display_name": "Python 3.9.7 64-bit"
  },
  "interpreter": {
   "hash": "43435a050d4ac362dc4b1b4851a0333547cf4819a4e47175b9a0f2919a9b0b1b"
  }
 },
 "nbformat": 4,
 "nbformat_minor": 2
}